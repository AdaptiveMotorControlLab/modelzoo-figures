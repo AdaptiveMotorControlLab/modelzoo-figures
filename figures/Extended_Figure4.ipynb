{
 "cells": [
  {
   "cell_type": "markdown",
   "id": "8fafefe1",
   "metadata": {},
   "source": [
    "# Extended Data Figure 4 - Ye et al. 2023"
   ]
  },
  {
   "cell_type": "code",
   "execution_count": 2,
   "id": "25a1848b",
   "metadata": {},
   "outputs": [],
   "source": [
    "import matplotlib.pyplot as plt\n",
    "import glob\n",
    "import os\n",
    "import sys\n",
    "import matplotlib.image as mpimg\n",
    "import seaborn as sns\n",
    "import numpy as np\n",
    "import pandas as pd\n",
    "\n",
    "plt.rcParams['axes.labelsize'] = 17  # for x and y labels\n",
    "plt.rcParams['xtick.labelsize'] = 17 # for x axis tick labels\n",
    "plt.rcParams['ytick.labelsize'] = 17 # for y axis tick labels\n",
    "plt.rcParams['axes.titlesize'] = 17"
   ]
  },
  {
   "cell_type": "markdown",
   "id": "52728b6d",
   "metadata": {},
   "source": [
    "## TopDown-TokenPose-L on DLC Openfield and TriMouse"
   ]
  },
  {
   "cell_type": "code",
   "execution_count": 7,
   "id": "0f861621",
   "metadata": {},
   "outputs": [
    {
     "name": "stderr",
     "output_type": "stream",
     "text": [
      "/Users/shaokaiye/miniforge3/envs/mausspaun/lib/python3.9/site-packages/seaborn/categorical.py:166: FutureWarning: Setting a gradient palette using color= is deprecated and will be removed in version 0.13. Set `palette='dark:grey'` for same effect.\n",
      "  warnings.warn(msg, FutureWarning)\n"
     ]
    },
    {
     "data": {
      "image/png": "[encoded data removed]",
      "text/plain": [
       "<Figure size 288x288 with 1 Axes>"
      ]
     },
     "metadata": {
      "needs_background": "light"
     },
     "output_type": "display_data"
    }
   ],
   "source": [
    "openfield_df = pd.read_csv('../data/Extended_Figure4/tokenpose_L/dlc_openfield.csv')\n",
    "openfield_df = openfield_df.iloc[:, 1:]\n",
    "openfield_df['dataset'] = 'DLC Openfield'\n",
    "\n",
    "plt.figure(figsize=(4, 4))\n",
    "trimouse_df = pd.read_csv('../data/Extended_Figure4/tokenpose_L/trimouse.csv')\n",
    "trimouse_df = trimouse_df.iloc[:, 1:]\n",
    "trimouse_df['dataset'] = 'TriMouse'\n",
    "\n",
    "\n",
    "\n",
    "result = pd.concat([openfield_df, trimouse_df], axis=0)\n",
    "result = result[result['method'] == 'zeroshot']\n",
    "\n",
    "\n",
    "sns.pointplot(data=result, x=\"dataset\", y=\"rmse\", hue='dataset', color = 'grey', errorbar=None )\n",
    "sns.stripplot(data=result, x=\"dataset\", y=\"rmse\", hue='dataset', alpha = .5, color = 'grey', jitter=False)\n",
    "plt.ylabel('RMSE')\n",
    "plt.legend().set_visible(False)\n",
    "sns.despine()\n",
    "plt.tight_layout()\n",
    "plt.xlabel('')\n",
    "\n",
    "plt.savefig('tokenpose_mice_scatter.png', dpi = 300, transparent = True)\n"
   ]
  },
  {
   "cell_type": "markdown",
   "id": "84f89a6c",
   "metadata": {},
   "source": [
    "## TopDown-TokenPose-L on Horse-10 and iRodent"
   ]
  },
  {
   "cell_type": "code",
   "execution_count": 5,
   "id": "ea58c526",
   "metadata": {},
   "outputs": [
    {
     "name": "stdout",
     "output_type": "stream",
     "text": [
      "     method pretrain_model  training_ratio   level_3       mAP    NE_iid  \\\n",
      "0  zeroshot    SuperAnimal             1.0  shuffle1  0.693018  0.246038   \n",
      "1  zeroshot    SuperAnimal             1.0  shuffle2  0.692155  0.242307   \n",
      "2  zeroshot    SuperAnimal             1.0  shuffle3  0.684144  0.228288   \n",
      "\n",
      "     NE_ood      rmse   dataset  \n",
      "0  0.229642  4.064050  Horse-10  \n",
      "1  0.229750  4.007541  Horse-10  \n",
      "2  0.239317  4.171900  Horse-10  \n"
     ]
    },
    {
     "name": "stderr",
     "output_type": "stream",
     "text": [
      "/Users/shaokaiye/miniforge3/envs/mausspaun/lib/python3.9/site-packages/seaborn/categorical.py:166: FutureWarning: Setting a gradient palette using color= is deprecated and will be removed in version 0.13. Set `palette='dark:grey'` for same effect.\n",
      "  warnings.warn(msg, FutureWarning)\n"
     ]
    },
    {
     "data": {
      "image/png": "[encoded data removed]",
      "text/plain": [
       "<Figure size 288x288 with 1 Axes>"
      ]
     },
     "metadata": {
      "needs_background": "light"
     },
     "output_type": "display_data"
    }
   ],
   "source": [
    "horse_df = pd.read_csv('../data/Extended_Figure4/tokenpose_L/horse10.csv')\n",
    "horse_df = horse_df.iloc[:, 1:]\n",
    "horse_df['dataset'] = 'Horse-10'\n",
    "\n",
    "plt.figure(figsize=(4, 4))\n",
    "print (horse_df)\n",
    "\n",
    "rodent_df = pd.read_csv('../data/Extended_Figure4/tokenpose_L/rodent.csv')\n",
    "rodent_df = rodent_df.iloc[:, 1:]\n",
    "rodent_df['dataset'] = 'iRodent'\n",
    "\n",
    "rodent_df['mAP']*=100\n",
    "horse_df['mAP']*=100\n",
    "\n",
    "\n",
    "result = pd.concat([horse_df, rodent_df], axis=0)\n",
    "result = result[result['method'] == 'zeroshot']\n",
    "\n",
    "\n",
    "sns.pointplot(data=result, x=\"dataset\", y=\"mAP\", hue='dataset', color = 'grey',  errorbar=None)\n",
    "sns.stripplot(data=result, x=\"dataset\", y=\"mAP\", hue='dataset', alpha = .5, color = 'grey', jitter=False, legend = False)\n",
    "plt.legend().set_visible(False)\n",
    "plt.xlabel('')\n",
    "sns.despine()\n",
    "plt.tight_layout()\n",
    "\n",
    "plt.savefig('tokenpose_quadruped_scatter.png', transparent = True, dpi = 300)\n",
    "\n"
   ]
  },
  {
   "cell_type": "code",
   "execution_count": null,
   "id": "64a0aa7c",
   "metadata": {},
   "outputs": [],
   "source": []
  },
  {
   "cell_type": "code",
   "execution_count": null,
   "id": "3430f673",
   "metadata": {},
   "outputs": [],
   "source": []
  }
 ],
 "metadata": {
  "jupytext": {
   "cell_metadata_filter": "-all",
   "main_language": "python",
   "notebook_metadata_filter": "-all"
  },
  "kernelspec": {
   "display_name": "mausspaun",
   "language": "python",
   "name": "mausspaun"
  },
  "language_info": {
   "codemirror_mode": {
    "name": "ipython",
    "version": 3
   },
   "file_extension": ".py",
   "mimetype": "text/x-python",
   "name": "python",
   "nbconvert_exporter": "python",
   "pygments_lexer": "ipython3",
   "version": "3.9.0"
  }
 },
 "nbformat": 4,
 "nbformat_minor": 5
}
