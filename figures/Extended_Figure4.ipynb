{
 "cells": [
  {
   "cell_type": "code",
   "execution_count": 1,
   "id": "9173ac58",
   "metadata": {
    "execution": {
     "iopub.execute_input": "2022-12-23T13:43:39.589982Z",
     "iopub.status.busy": "2022-12-23T13:43:39.589713Z",
     "iopub.status.idle": "2022-12-23T13:43:45.340671Z",
     "shell.execute_reply": "2022-12-23T13:43:45.340164Z"
    },
    "lines_to_next_cell": 0
   },
   "outputs": [
    {
     "name": "stdout",
     "output_type": "stream",
     "text": [
      "           ViT-MAE  ViT-DeIT  TokenPose (HRNet)  TokenPose (CNN)  HRNet\n",
      "iRodent       26.6      28.2               40.7             39.5   40.3\n",
      "AwA-OOD       38.2      38.9               55.6             53.5   53.3\n",
      "TriMouse      32.4      34.2               33.4             43.5   28.1\n",
      "Openfield     63.6      62.4               91.5             82.7   72.3\n"
     ]
    }
   ],
   "source": [
    "import pandas as pd\n",
    "\n",
    "def plot_extended_figure4e():\n",
    "    results = pd.read_csv('../data/Extended_Figure4/results.csv', index_col=0)\n",
    "    print(results)\n",
    "\n",
    "def plot_extended_figure4f():\n",
    "    complexity = pd.read_csv('../data/Extended_Figure4/complexity.csv', index_col=0)\n",
    "    print(complexity)\n",
    "\n",
    "plot_extended_figure4e()"
   ]
  },
  {
   "cell_type": "code",
   "execution_count": 2,
   "id": "43aaef80",
   "metadata": {
    "execution": {
     "iopub.execute_input": "2022-12-23T13:43:45.343261Z",
     "iopub.status.busy": "2022-12-23T13:43:45.343108Z",
     "iopub.status.idle": "2022-12-23T13:43:45.348764Z",
     "shell.execute_reply": "2022-12-23T13:43:45.348261Z"
    }
   },
   "outputs": [
    {
     "name": "stdout",
     "output_type": "stream",
     "text": [
      "                   Params, M  MACs, G\n",
      "ViT-MAE                29.80      7.5\n",
      "ViT-DeIT               15.00      8.8\n",
      "TokenPose (HRNet)       7.51     20.1\n",
      "TokenPose (CNN)        86.00     17.6\n",
      "HRNet                  86.00     17.6\n"
     ]
    }
   ],
   "source": [
    "plot_extended_figure4f()"
   ]
  }
 ],
 "metadata": {
  "jupytext": {
   "cell_metadata_filter": "-all",
   "main_language": "python",
   "notebook_metadata_filter": "-all"
  },
  "language_info": {
   "codemirror_mode": {
    "name": "ipython",
    "version": 3
   },
   "file_extension": ".py",
   "mimetype": "text/x-python",
   "name": "python",
   "nbconvert_exporter": "python",
   "pygments_lexer": "ipython3",
   "version": "3.9.13"
  }
 },
 "nbformat": 4,
 "nbformat_minor": 5
}
