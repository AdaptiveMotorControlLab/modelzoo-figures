{
 "cells": [
  {
   "cell_type": "markdown",
   "id": "f55faf1c",
   "metadata": {},
   "source": [
    "# Statistics to support Figure 2 - Ye et al. 2023"
   ]
  },
  {
   "cell_type": "code",
   "execution_count": null,
   "id": "dfb5cabe",
   "metadata": {},
   "outputs": [],
   "source": [
    "library(arrow)\n",
    "library(lme4)\n",
    "library(ggplot2)\n",
    "library(dplyr)\n",
    "library(emmeans)"
   ]
  },
  {
   "cell_type": "code",
   "execution_count": null,
   "id": "0c5f107b",
   "metadata": {},
   "outputs": [],
   "source": [
    "df <- arrow::read_feather('data/rmse_eff.feather')\n",
    "df$method <- factor(df$method, ordered = FALSE)\n",
    "df <- filter(df, method %in% c('ImageNet transfer learning', 'SA + Memory Replay', 'zeroshot'))\n",
    "df$dataset <- factor(df$dataset, ordered = FALSE)\n",
    "df$shuffle <- factor(df$shuffle, ordered = FALSE)\n",
    "df$frac <- factor(df$frac, ordered = TRUE)"
   ]
  },
  {
   "cell_type": "code",
   "execution_count": null,
   "id": "ba171477",
   "metadata": {},
   "outputs": [],
   "source": [
    "df %>%\n",
    "  ggplot(aes(x=frac, y=rmse, group=interaction(dataset, method), color=dataset, linetype=method)) +\n",
    "  geom_line() +\n",
    "  geom_point() +\n",
    "  theme_classic()"
   ]
  },
  {
   "cell_type": "code",
   "execution_count": null,
   "id": "52512ea7",
   "metadata": {},
   "outputs": [],
   "source": [
    "mod1 <- lmer(rmse ~ (1|dataset), data=df, REML=F)  # Null model\n",
    "mod2 <- lmer(rmse ~ method + (1|dataset), data=df, REML=F)  # Add random intercept\n",
    "mod3 <- lmer(rmse ~ method * frac + (1|dataset), data=df, REML=F)  # Add interaction term\n",
    "mod4 <- lmer(rmse ~ method * frac + (1 + frac|dataset), data=df, REML=F)  # Add random slope\n",
    "mod5 <- lmer(rmse ~ method * frac + (1 + frac|dataset) + (1 | shuffle), data=df, REML=F)  # Add shuffle's crossed random effect"
   ]
  },
  {
   "cell_type": "code",
   "execution_count": null,
   "id": "5d957a41",
   "metadata": {},
   "outputs": [],
   "source": [
    "anova(mod1, mod2, mod3, mod4, mod5)"
   ]
  },
  {
   "cell_type": "markdown",
   "id": "c9ce5ac6",
   "metadata": {},
   "source": [
    "df %>%\n",
    "  mutate(pred = fitted(mod4)) %>%\n",
    "  ggplot(aes(x=frac, y=pred, group=interaction(dataset, method), color=dataset, linetype=method)) +\n",
    "  geom_line(linewidth=1) +\n",
    "  theme_classic()"
   ]
  },
  {
   "cell_type": "code",
   "execution_count": null,
   "id": "82cf567a",
   "metadata": {},
   "outputs": [],
   "source": [
    "emm <- emmeans(mod4, pairwise ~ method | frac)\n",
    "emm$contrasts %>%\n",
    "  summary(infer = TRUE)\n",
    "eff_size(emm, sigma = sigma(mod4), edf = df.residual(mod4))"
   ]
  }
 ],
 "metadata": {
  "jupytext": {
   "cell_metadata_filter": "-all",
   "main_language": "R",
   "notebook_metadata_filter": "-all",
   "text_representation": {
    "extension": ".R",
    "format_name": "light"
   }
  }
 },
 "nbformat": 4,
 "nbformat_minor": 5
}
