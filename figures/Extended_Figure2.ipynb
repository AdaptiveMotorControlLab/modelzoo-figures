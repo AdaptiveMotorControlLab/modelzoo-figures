{
 "cells": [
  {
   "cell_type": "markdown",
   "id": "4f87ee69",
   "metadata": {},
   "source": [
    "# Extended Data Figure 2 - Ye et al. 2023"
   ]
  },
  {
   "cell_type": "markdown",
   "id": "44aedec2",
   "metadata": {},
   "source": [
    "- import dependencies and load the data"
   ]
  },
  {
   "cell_type": "code",
   "execution_count": null,
   "id": "f258d7ad",
   "metadata": {},
   "outputs": [],
   "source": [
    "import matplotlib.pyplot as plt\n",
    "import numpy as np\n",
    "import sys\n",
    "import os\n",
    "import pandas as pd\n",
    "import warnings\n",
    "import pickle\n",
    "import seaborn as sns\n",
    "from matplotlib.offsetbox import AnchoredOffsetbox\n",
    "sns.set_style(\"ticks\")\n",
    "warnings.filterwarnings('ignore')"
   ]
  },
  {
   "cell_type": "code",
   "execution_count": null,
   "id": "83219138",
   "metadata": {},
   "outputs": [],
   "source": [
    "def plot_extended_data_fig2d():\n",
    "    with_sp = pd.read_hdf('../data/Extended_Figure2/rodent_memory_replay_with_sp.h5')\n",
    "    without_sp = pd.read_hdf('../data/Extended_Figure2/rodent_memory_replay_without_sp.h5')\n",
    "    with_sp_NE = with_sp['ne_nonreduced'][0]\n",
    "    with_sp_NE = np.nanmean(with_sp_NE, axis = (1,2))\n",
    "    without_sp_NE = without_sp['ne_nonreduced'][0]\n",
    "    without_sp_NE = np.nanmean(without_sp_NE, axis = (1,2))\n",
    "\n",
    "    remove_nan = lambda x: x[~np.isnan(x)]\n",
    "    remove_extreme = lambda x: x[x<10]\n",
    "    with_sp_NE = remove_nan(with_sp_NE)\n",
    "    with_sp_NE = remove_extreme(with_sp_NE)\n",
    "\n",
    "    without_sp_NE = remove_nan(without_sp_NE)\n",
    "    without_sp_NE = remove_extreme(without_sp_NE)\n",
    "    fig, axes = plt.subplots(1,  figsize=(6, 7))\n",
    "\n",
    "    dfs = []\n",
    "    with_pyramid = [\"without\"] * len(without_sp_NE) + [\"with\"] * len(with_sp_NE)\n",
    "\n",
    "    df_ = pd.DataFrame(\n",
    "            np.array([\n",
    "                np.r_[without_sp_NE, with_sp_NE],\n",
    "                with_pyramid,\n",
    "            ]).T,\n",
    "\n",
    "    columns=['Normalized Error', 'cond'])\n",
    "\n",
    "    df_['dataset'] = 'iRodent'\n",
    "\n",
    "    df_['Normalized Error'] = df_['Normalized Error'].astype(\"float64\")\n",
    "    df_['cond'] = df_['cond'].astype(\"category\")\n",
    "    df_['dataset'] = df_['dataset'].astype(\"category\")\n",
    "\n",
    "    dfs.append(df_)\n",
    "\n",
    "    vp = sns.violinplot(\n",
    "            df_, y='dataset', x='Normalized Error', hue='cond', split=True, hue_order=['with', 'without'],\n",
    "            inner=\"quart\", linewidth=1, palette={\"without\": \"b\", \"with\": \".85\"},\n",
    "            ax=axes, bw='scott',\n",
    "        )\n",
    "    sns.despine(ax=axes, left=True, top=True, right=True)\n",
    "\n",
    "    axes.set_yticks([])\n",
    "    axes.set_ylabel(\"\")\n",
    "    axes.legend().remove()\n",
    "    handles, labels = axes.get_legend_handles_labels()\n",
    "    fig.legend(\n",
    "        handles,\n",
    "        ['Without res. consistency', 'With res. consistency'],\n",
    "        frameon=False,\n",
    "        ncol=1,\n",
    "        # loc='lower right',\n",
    "        fontsize='small',\n",
    "        bbox_to_anchor=(0.9, 0.2),\n",
    "    )\n",
    "    axes.legend().remove()\n",
    "    fig.savefig('Extended_data_Figure2d', dpi=600, bbox_inches='tight', pad_inches=0.05)"
   ]
  },
  {
   "cell_type": "code",
   "execution_count": null,
   "id": "4e8833c1",
   "metadata": {},
   "outputs": [],
   "source": [
    "plot_extended_data_fig2d()"
   ]
  },
  {
   "cell_type": "code",
   "execution_count": null,
   "id": "80dcaf86",
   "metadata": {},
   "outputs": [],
   "source": []
  }
 ],
 "metadata": {
  "jupytext": {
   "cell_metadata_filter": "-all",
   "main_language": "python",
   "notebook_metadata_filter": "-all",
   "text_representation": {
    "extension": ".py",
    "format_name": "light"
   }
  }
 },
 "nbformat": 4,
 "nbformat_minor": 5
}
