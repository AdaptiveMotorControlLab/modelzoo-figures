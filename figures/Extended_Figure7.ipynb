{
 "cells": [
  {
   "cell_type": "markdown",
   "id": "ebd0f599",
   "metadata": {},
   "source": [
    "# Extended Figure 7 - Ye et al. 2023"
   ]
  },
  {
   "cell_type": "code",
   "execution_count": 1,
   "id": "3b0fff60",
   "metadata": {},
   "outputs": [],
   "source": [
    "import matplotlib.pyplot as plt\n",
    "import glob\n",
    "import os\n",
    "import sys\n",
    "import matplotlib.image as mpimg\n",
    "import seaborn as sns\n",
    "import numpy as np\n",
    "import pandas as pd\n",
    "import ast\n",
    "plt.rcParams['axes.labelsize'] = 17  # for x and y labels\n",
    "plt.rcParams['xtick.labelsize'] = 17 # for x axis tick labels\n",
    "plt.rcParams['ytick.labelsize'] = 17 # for y axis tick labels\n",
    "plt.rcParams['axes.titlesize'] = 17"
   ]
  },
  {
   "cell_type": "code",
   "execution_count": 2,
   "id": "cf14ba86",
   "metadata": {},
   "outputs": [
    {
     "name": "stderr",
     "output_type": "stream",
     "text": [
      "/var/folders/n5/5_x4w2px2wn6hc6n_9zzlygw0000gn/T/ipykernel_86743/2577710120.py:14: PerformanceWarning: indexing past lexsort depth may impact performance.\n",
      "  unbalanced_zeroshot = temp.loc['unbalanced_zeroshot', '600000']  # .mean(axis=0)\n"
     ]
    }
   ],
   "source": [
    "rename_dict = {'swimming_ole': 'Kiehn_Lab_Swimming',\n",
    "           'openfield_ole': 'Kiehn_Lab_Openfield',\n",
    "           'treadmill_ole': 'Kiehn_Lab_Treadmill',\n",
    "           'MackenzieMausHaus': 'MausHaus',\n",
    "           'daniel3mouse': 'TriMice',\n",
    "           'dlc-openfield': 'DLC_Openfield',\n",
    "           'TwoWhiteMice_GoldenLab': 'WhiteMice',\n",
    "           'ChanLab': 'BlackMice'\n",
    "           }\n",
    "\n",
    "temp = pd.read_hdf('../data/Figure1/openfield_ratios.h5')\n",
    "\n",
    "\n",
    "unbalanced_zeroshot = temp.loc['unbalanced_zeroshot', '600000']  # .mean(axis=0)\n",
    "\n",
    "\n",
    "zeroshot_with_mask = unbalanced_zeroshot['RMSE']\n",
    "\n",
    "\n"
   ]
  },
  {
   "cell_type": "code",
   "execution_count": 3,
   "id": "418299a8",
   "metadata": {},
   "outputs": [
    {
     "name": "stderr",
     "output_type": "stream",
     "text": [
      "/Users/shaokaiye/miniforge3/envs/mausspaun/lib/python3.9/site-packages/seaborn/categorical.py:166: FutureWarning: Setting a gradient palette using color= is deprecated and will be removed in version 0.13. Set `palette='dark:grey'` for same effect.\n",
      "  warnings.warn(msg, FutureWarning)\n"
     ]
    },
    {
     "data": {
      "image/png": "[encoded data removed]",
      "text/plain": [
       "<Figure size 288x432 with 1 Axes>"
      ]
     },
     "metadata": {
      "needs_background": "light"
     },
     "output_type": "display_data"
    }
   ],
   "source": [
    "no_mask_zeroshot = pd.read_csv('../data/Extended_Figure7/dlc_openfield_no_masking_zeroshot.csv')\n",
    "no_mask_zeroshot = no_mask_zeroshot.iloc[:, 1:]\n",
    "mask_zeroshot = zeroshot_with_mask.to_frame().reset_index()\n",
    "no_mask_zeroshot['method'] = 'Trained without masking'\n",
    "\n",
    "mask_zeroshot.columns = ['Shuffle', 'RMSE']\n",
    "mask_zeroshot['method'] = 'Trained with masking'\n",
    "\n",
    "\n",
    "df = pd.concat((no_mask_zeroshot, mask_zeroshot),ignore_index=True)\n",
    "\n",
    "\n",
    "# Create a bar plot\n",
    "plt.figure(figsize=(4, 6))\n",
    "#plt.bar(methods, mean_rmse, yerr=std_error, capsize=5, color=['grey', 'grey'])\n",
    "sns.pointplot(data=df, x=\"method\", y=\"RMSE\", hue='method', color='grey', errorbar=None)\n",
    "sns.stripplot(data=df, x=\"method\", y=\"RMSE\",  hue='method', color='grey', alpha = .5)\n",
    "\n",
    "# Adding labels and title\n",
    "\n",
    "plt.ylabel('RMSE')\n",
    "plt.xticks(rotation=45)\n",
    "plt.title(\"Zero-shot on DLC Openfield\")\n",
    "plt.xlabel('')\n",
    "sns.despine()  # Removing top and right spines\n",
    "plt.tight_layout()\n",
    "ax = plt.gca()  # Get the current axes instance\n",
    "ax.get_legend().remove()\n",
    "# Show the plot\n",
    "plt.savefig('masking_ablation_study.png', dpi = 300, transparent = True)"
   ]
  },
  {
   "cell_type": "code",
   "execution_count": 5,
   "id": "b4fe9023",
   "metadata": {
    "scrolled": true
   },
   "outputs": [
    {
     "name": "stdout",
     "output_type": "stream",
     "text": [
      "             method pretrain_model  train_ratio   shuffle  keypoint_dropping\n",
      "0         fine-tune    SuperAnimal         0.01  shuffle0                  1\n",
      "1         fine-tune    SuperAnimal         0.01  shuffle0                  3\n",
      "2         fine-tune    SuperAnimal         0.01  shuffle0                  2\n",
      "3         fine-tune    SuperAnimal         0.01  shuffle0                  1\n",
      "4         fine-tune    SuperAnimal         0.01  shuffle0                  4\n",
      "...             ...            ...          ...       ...                ...\n",
      "1615  memory replay    SuperAnimal         1.00  shuffle2                  1\n",
      "1616  memory replay    SuperAnimal         1.00  shuffle2                  0\n",
      "1617  memory replay    SuperAnimal         1.00  shuffle2                  0\n",
      "1618  memory replay    SuperAnimal         1.00  shuffle2                  1\n",
      "1619  memory replay    SuperAnimal         1.00  shuffle2                  1\n",
      "\n",
      "[1620 rows x 5 columns]\n"
     ]
    },
    {
     "ename": "ValueError",
     "evalue": "malformed node or string: 1",
     "output_type": "error",
     "traceback": [
      "\u001b[0;31m---------------------------------------------------------------------------\u001b[0m",
      "\u001b[0;31mValueError\u001b[0m                                Traceback (most recent call last)",
      "Input \u001b[0;32mIn [5]\u001b[0m, in \u001b[0;36m<cell line: 21>\u001b[0;34m()\u001b[0m\n\u001b[1;32m     21\u001b[0m \u001b[38;5;28;01mfor\u001b[39;00m index, row \u001b[38;5;129;01min\u001b[39;00m filtered_data\u001b[38;5;241m.\u001b[39miterrows():\n\u001b[1;32m     22\u001b[0m     \u001b[38;5;28;01mif\u001b[39;00m pd\u001b[38;5;241m.\u001b[39mnotna(row[\u001b[38;5;124m'\u001b[39m\u001b[38;5;124mkeypoint_dropping\u001b[39m\u001b[38;5;124m'\u001b[39m]):  \u001b[38;5;66;03m# Ensure the value is not NaN\u001b[39;00m\n\u001b[0;32m---> 23\u001b[0m         keypoint_list \u001b[38;5;241m=\u001b[39m \u001b[43mast\u001b[49m\u001b[38;5;241;43m.\u001b[39;49m\u001b[43mliteral_eval\u001b[49m\u001b[43m(\u001b[49m\u001b[43mrow\u001b[49m\u001b[43m[\u001b[49m\u001b[38;5;124;43m'\u001b[39;49m\u001b[38;5;124;43mkeypoint_dropping\u001b[39;49m\u001b[38;5;124;43m'\u001b[39;49m\u001b[43m]\u001b[49m\u001b[43m)\u001b[49m\n\u001b[1;32m     25\u001b[0m         \u001b[38;5;28;01mfor\u001b[39;00m keypoint_value \u001b[38;5;129;01min\u001b[39;00m keypoint_list:\n\u001b[1;32m     26\u001b[0m             rows\u001b[38;5;241m.\u001b[39mappend({\n\u001b[1;32m     27\u001b[0m                 \u001b[38;5;124m'\u001b[39m\u001b[38;5;124mmethod\u001b[39m\u001b[38;5;124m'\u001b[39m: row[\u001b[38;5;124m'\u001b[39m\u001b[38;5;124mmethod\u001b[39m\u001b[38;5;124m'\u001b[39m],\n\u001b[1;32m     28\u001b[0m                 \u001b[38;5;124m'\u001b[39m\u001b[38;5;124mtraining_ratio\u001b[39m\u001b[38;5;124m'\u001b[39m: row[\u001b[38;5;124m'\u001b[39m\u001b[38;5;124mtraining_ratio\u001b[39m\u001b[38;5;124m'\u001b[39m],\n\u001b[1;32m     29\u001b[0m                 \u001b[38;5;124m'\u001b[39m\u001b[38;5;124mkeypoint_dropping\u001b[39m\u001b[38;5;124m'\u001b[39m: keypoint_value\n\u001b[1;32m     30\u001b[0m             })\n",
      "File \u001b[0;32m~/miniforge3/envs/mausspaun/lib/python3.9/ast.py:105\u001b[0m, in \u001b[0;36mliteral_eval\u001b[0;34m(node_or_string)\u001b[0m\n\u001b[1;32m    103\u001b[0m                 \u001b[38;5;28;01mreturn\u001b[39;00m left \u001b[38;5;241m-\u001b[39m right\n\u001b[1;32m    104\u001b[0m     \u001b[38;5;28;01mreturn\u001b[39;00m _convert_signed_num(node)\n\u001b[0;32m--> 105\u001b[0m \u001b[38;5;28;01mreturn\u001b[39;00m \u001b[43m_convert\u001b[49m\u001b[43m(\u001b[49m\u001b[43mnode_or_string\u001b[49m\u001b[43m)\u001b[49m\n",
      "File \u001b[0;32m~/miniforge3/envs/mausspaun/lib/python3.9/ast.py:104\u001b[0m, in \u001b[0;36mliteral_eval.<locals>._convert\u001b[0;34m(node)\u001b[0m\n\u001b[1;32m    102\u001b[0m         \u001b[38;5;28;01melse\u001b[39;00m:\n\u001b[1;32m    103\u001b[0m             \u001b[38;5;28;01mreturn\u001b[39;00m left \u001b[38;5;241m-\u001b[39m right\n\u001b[0;32m--> 104\u001b[0m \u001b[38;5;28;01mreturn\u001b[39;00m \u001b[43m_convert_signed_num\u001b[49m\u001b[43m(\u001b[49m\u001b[43mnode\u001b[49m\u001b[43m)\u001b[49m\n",
      "File \u001b[0;32m~/miniforge3/envs/mausspaun/lib/python3.9/ast.py:78\u001b[0m, in \u001b[0;36mliteral_eval.<locals>._convert_signed_num\u001b[0;34m(node)\u001b[0m\n\u001b[1;32m     76\u001b[0m     \u001b[38;5;28;01melse\u001b[39;00m:\n\u001b[1;32m     77\u001b[0m         \u001b[38;5;28;01mreturn\u001b[39;00m \u001b[38;5;241m-\u001b[39m operand\n\u001b[0;32m---> 78\u001b[0m \u001b[38;5;28;01mreturn\u001b[39;00m \u001b[43m_convert_num\u001b[49m\u001b[43m(\u001b[49m\u001b[43mnode\u001b[49m\u001b[43m)\u001b[49m\n",
      "File \u001b[0;32m~/miniforge3/envs/mausspaun/lib/python3.9/ast.py:69\u001b[0m, in \u001b[0;36mliteral_eval.<locals>._convert_num\u001b[0;34m(node)\u001b[0m\n\u001b[1;32m     67\u001b[0m \u001b[38;5;28;01mdef\u001b[39;00m \u001b[38;5;21m_convert_num\u001b[39m(node):\n\u001b[1;32m     68\u001b[0m     \u001b[38;5;28;01mif\u001b[39;00m \u001b[38;5;129;01mnot\u001b[39;00m \u001b[38;5;28misinstance\u001b[39m(node, Constant) \u001b[38;5;129;01mor\u001b[39;00m \u001b[38;5;28mtype\u001b[39m(node\u001b[38;5;241m.\u001b[39mvalue) \u001b[38;5;129;01mnot\u001b[39;00m \u001b[38;5;129;01min\u001b[39;00m (\u001b[38;5;28mint\u001b[39m, \u001b[38;5;28mfloat\u001b[39m, \u001b[38;5;28mcomplex\u001b[39m):\n\u001b[0;32m---> 69\u001b[0m         \u001b[43m_raise_malformed_node\u001b[49m\u001b[43m(\u001b[49m\u001b[43mnode\u001b[49m\u001b[43m)\u001b[49m\n\u001b[1;32m     70\u001b[0m     \u001b[38;5;28;01mreturn\u001b[39;00m node\u001b[38;5;241m.\u001b[39mvalue\n",
      "File \u001b[0;32m~/miniforge3/envs/mausspaun/lib/python3.9/ast.py:66\u001b[0m, in \u001b[0;36mliteral_eval.<locals>._raise_malformed_node\u001b[0;34m(node)\u001b[0m\n\u001b[1;32m     65\u001b[0m \u001b[38;5;28;01mdef\u001b[39;00m \u001b[38;5;21m_raise_malformed_node\u001b[39m(node):\n\u001b[0;32m---> 66\u001b[0m     \u001b[38;5;28;01mraise\u001b[39;00m \u001b[38;5;167;01mValueError\u001b[39;00m(\u001b[38;5;124mf\u001b[39m\u001b[38;5;124m'\u001b[39m\u001b[38;5;124mmalformed node or string: \u001b[39m\u001b[38;5;132;01m{\u001b[39;00mnode\u001b[38;5;132;01m!r}\u001b[39;00m\u001b[38;5;124m'\u001b[39m)\n",
      "\u001b[0;31mValueError\u001b[0m: malformed node or string: 1"
     ]
    }
   ],
   "source": [
    "\n",
    "import pandas as pd\n",
    "import seaborn as sns\n",
    "import matplotlib.pyplot as plt\n",
    "\n",
    "# Load your data\n",
    "df = pd.read_csv('../data/Extended_Figure7/TD_dlc_openfield_memory_replay_ablation_study.csv')\n",
    "\n",
    "\n",
    "\n",
    "df['method'] = df['method'].replace({'memory-replay' : 'memory replay', 'finetune': 'fine-tune'})\n",
    "\n",
    "print (df)\n",
    "\n",
    "# Filter the data for 'finetune' and 'memory-replay' methods\n",
    "filtered_data = df\n",
    "\n",
    "\n",
    "# Expand the 'keypoint_dropping' lists into individual rows\n",
    "# Assuming 'keypoint_dropping' is a column of lists or similar structure\n",
    "rows = []\n",
    "for index, row in filtered_data.iterrows():\n",
    "    if pd.notna(row['keypoint_dropping']):  # Ensure the value is not NaN\n",
    "        keypoint_list = ast.literal_eval(row['keypoint_dropping'])\n",
    "\n",
    "        for keypoint_value in keypoint_list:\n",
    "            rows.append({\n",
    "                'method': row['method'],\n",
    "                'training_ratio': row['training_ratio'],\n",
    "                'keypoint_dropping': keypoint_value\n",
    "            })\n",
    "\n",
    "expanded_data = pd.concat([pd.DataFrame([row]) for row in rows], ignore_index=True)\n",
    "\n",
    "# Creating the box plot with the expanded data\n",
    "plt.figure(figsize=(6, 6))\n",
    "sns.boxplot(x='training_ratio', y='keypoint_dropping', hue='method', data=expanded_data, showfliers = False)\n",
    "plt.title('Memory replay vs. fine-tuning')\n",
    "plt.xlabel('Training Ratio')\n",
    "plt.ylabel('Keypoint Dropping')\n",
    "plt.legend(title='Method')\n",
    "plt.legend(loc='upper left', bbox_to_anchor=(1, 1))\n",
    "plt.tight_layout()\n",
    "sns.despine()\n",
    "plt.savefig('memory_replay_ablation.png', transparent = True, dpi = 300)"
   ]
  },
  {
   "cell_type": "code",
   "execution_count": 11,
   "id": "fad2bc89",
   "metadata": {},
   "outputs": [
    {
     "name": "stdout",
     "output_type": "stream",
     "text": [
      "    dataset   shuffle number of permutation    NE_OOD       mAP\n",
      "0   horse10  shuffle0                     0  0.230474       NaN\n",
      "1   horse10  shuffle0                     2  0.306245       NaN\n",
      "2   horse10  shuffle0                     3  0.320852       NaN\n",
      "3   horse10  shuffle0                     4  0.780375       NaN\n",
      "4   horse10  shuffle1                     0  0.230474       NaN\n",
      "5   horse10  shuffle1                     2  0.369244       NaN\n",
      "6   horse10  shuffle1                     3  0.373056       NaN\n",
      "7   horse10  shuffle1                     4  0.482683       NaN\n",
      "8   horse10  shuffle2                     0  0.230474       NaN\n",
      "9   horse10  shuffle2                     2  0.614781       NaN\n",
      "10  horse10  shuffle2                     3  0.448852       NaN\n",
      "11  horse10  shuffle2                     4  0.604959       NaN\n",
      "12   rodent  shuffle0                     0       NaN  0.551131\n",
      "13   rodent  shuffle0                     2       NaN  0.449959\n",
      "14   rodent  shuffle0                     3       NaN  0.416664\n",
      "15   rodent  shuffle0                     4       NaN  0.545459\n",
      "16   rodent  shuffle1                     0       NaN  0.551131\n",
      "17   rodent  shuffle1                     2       NaN  0.430788\n",
      "18   rodent  shuffle1                     3       NaN  0.332106\n",
      "19   rodent  shuffle1                     4       NaN  0.289615\n",
      "20   rodent  shuffle2                     0       NaN  0.551131\n",
      "21   rodent  shuffle2                     2       NaN  0.385930\n",
      "22   rodent  shuffle2                     3       NaN  0.432866\n",
      "23   rodent  shuffle2                     4       NaN  0.346695\n"
     ]
    }
   ],
   "source": [
    "df = pd.read_csv('../data/Extended_Figure7/permutation_test_keypoint_matching.csv')\n",
    "\n",
    "df.columns=['dataset', 'shuffle', 'number of permutation', 'NE_OOD', 'mAP']\n",
    "\n",
    "df['number of permutation'] = df['number of permutation'].str.replace('permutation_', '')\n",
    "\n",
    "print (df)\n",
    "\n",
    "df['mAP']*=100\n",
    "df = df.round(2)\n",
    "\n",
    "\n",
    "horse10_df = df[df['dataset'] == 'horse10']\n",
    "rodent_df = df[df['dataset'] == 'rodent']\n",
    "\n"
   ]
  },
  {
   "cell_type": "code",
   "execution_count": 8,
   "id": "64d419b0",
   "metadata": {},
   "outputs": [
    {
     "name": "stderr",
     "output_type": "stream",
     "text": [
      "/Users/shaokaiye/miniforge3/envs/mausspaun/lib/python3.9/site-packages/seaborn/categorical.py:166: FutureWarning: Setting a gradient palette using color= is deprecated and will be removed in version 0.13. Set `palette='dark:grey'` for same effect.\n",
      "  warnings.warn(msg, FutureWarning)\n"
     ]
    },
    {
     "data": {
      "image/png": "[encoded data removed]",
      "text/plain": [
       "<Figure size 288x288 with 1 Axes>"
      ]
     },
     "metadata": {},
     "output_type": "display_data"
    }
   ],
   "source": [
    "pd.set_option('display.max_columns', None)\n",
    "pd.set_option('display.max_rows', None)\n",
    "sns.set_style(\"ticks\")\n",
    "\n",
    "df = horse10_df\n",
    "\n",
    "df.columns = ['dataset', 'shuffle', 'number of permutation', 'NE_OOD', 'mAP']\n",
    "\n",
    "fig, ax1 = plt.subplots(\n",
    "    ncols=1,\n",
    "    tight_layout=True,\n",
    "    figsize=(4, 4),\n",
    "    sharex=True,\n",
    "    sharey=True,\n",
    ")\n",
    "\n",
    "pal = 'magma_r'\n",
    "sns.pointplot(data=df, x=\"number of permutation\", y=\"NE_OOD\", ax=ax1, hue='number of permutation', color='grey', errorbar=None)\n",
    "sns.stripplot(data=df, x=\"number of permutation\", y=\"NE_OOD\", ax=ax1, hue='number of permutation', color='grey', alpha = .5)\n",
    "\n",
    "ax1.legend().remove()\n",
    "\n",
    "ax1.set_xlabel('')\n",
    "\n",
    "\n",
    "plt.ylabel(\"Normalized OOD\", fontsize=20)\n",
    "\n",
    "ax1.tick_params(axis=\"both\", which=\"major\", labelsize=15)\n",
    "\n",
    "sns.despine(\n",
    "    left=False,\n",
    "    right=True,\n",
    "    bottom=False,\n",
    "    top=True,\n",
    "    trim=True,\n",
    "    offset={\"bottom\": 10, \"left\": 10},)\n",
    "plt.title('Horse-10')\n",
    "ax1.set_xlabel('Number of kpts. permutated')\n",
    "plt.savefig('horse10_keypoint_matching_ablation.png', dpi = 300, transparent = True)\n"
   ]
  },
  {
   "cell_type": "code",
   "execution_count": 9,
   "id": "1cd7d44a",
   "metadata": {},
   "outputs": [
    {
     "name": "stderr",
     "output_type": "stream",
     "text": [
      "/Users/shaokaiye/miniforge3/envs/mausspaun/lib/python3.9/site-packages/seaborn/categorical.py:166: FutureWarning: Setting a gradient palette using color= is deprecated and will be removed in version 0.13. Set `palette='dark:grey'` for same effect.\n",
      "  warnings.warn(msg, FutureWarning)\n"
     ]
    },
    {
     "data": {
      "image/png": "[encoded data removed]",
      "text/plain": [
       "<Figure size 288x288 with 1 Axes>"
      ]
     },
     "metadata": {},
     "output_type": "display_data"
    }
   ],
   "source": [
    "pd.set_option('display.max_columns', None)\n",
    "pd.set_option('display.max_rows', None)\n",
    "sns.set_style(\"ticks\")\n",
    "\n",
    "df = rodent_df\n",
    "\n",
    "df.columns = ['dataset', 'shuffle', 'number of permutation', 'NE_OOD', 'mAP']\n",
    "\n",
    "fig, ax1 = plt.subplots(\n",
    "    ncols=1,\n",
    "    tight_layout=True,\n",
    "    figsize=(4, 4),\n",
    "    sharex=True,\n",
    "    sharey=True,\n",
    ")\n",
    "\n",
    "pal = 'magma_r'\n",
    "sns.pointplot(data=df, x=\"number of permutation\", y=\"mAP\", ax=ax1, hue='number of permutation', color='grey', errorbar=None)\n",
    "sns.stripplot(data=df, x=\"number of permutation\", y=\"mAP\", ax=ax1, hue='number of permutation', color='grey', alpha = .5)\n",
    "\n",
    "ax1.legend().remove()\n",
    "\n",
    "ax1.set_xlabel('')\n",
    "\n",
    "\n",
    "plt.ylabel(\"mAP\", fontsize=20)\n",
    "\n",
    "ax1.tick_params(axis=\"both\", which=\"major\", labelsize=15)\n",
    "\n",
    "sns.despine(\n",
    "    left=False,\n",
    "    right=True,\n",
    "    bottom=False,\n",
    "    top=True,\n",
    "    trim=True,\n",
    "    offset={\"bottom\": 10, \"left\": 10},)\n",
    "plt.title('iRodent')\n",
    "ax1.set_xlabel('Number of kpts. permutated')\n",
    "plt.savefig('rodent_keypoint_matching_ablation.png', dpi = 300, transparent = True)\n"
   ]
  },
  {
   "cell_type": "code",
   "execution_count": null,
   "id": "88f28d4d",
   "metadata": {},
   "outputs": [],
   "source": []
  }
 ],
 "metadata": {
  "kernelspec": {
   "display_name": "mausspaun",
   "language": "python",
   "name": "mausspaun"
  },
  "language_info": {
   "codemirror_mode": {
    "name": "ipython",
    "version": 3
   },
   "file_extension": ".py",
   "mimetype": "text/x-python",
   "name": "python",
   "nbconvert_exporter": "python",
   "pygments_lexer": "ipython3",
   "version": "3.9.0"
  }
 },
 "nbformat": 4,
 "nbformat_minor": 5
}
